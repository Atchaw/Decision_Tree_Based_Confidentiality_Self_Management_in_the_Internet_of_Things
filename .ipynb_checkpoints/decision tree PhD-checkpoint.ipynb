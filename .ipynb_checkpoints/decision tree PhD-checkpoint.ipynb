{
 "cells": [
  {
   "cell_type": "code",
   "execution_count": 6,
   "id": "f64e12e6-4eea-4bab-ab44-c5ae96213201",
   "metadata": {},
   "outputs": [],
   "source": [
    "import numpy as np # linear algebra\n",
    "import pandas as pd # data processing\n",
    "import matplotlib.pyplot as plt # data visualization\n",
    "import seaborn as sns # statistical data visualization\n",
    "%matplotlib inline\n",
    "import warnings\n",
    "warnings.filterwarnings(\"ignore\")"
   ]
  },
  {
   "cell_type": "code",
   "execution_count": 7,
   "id": "0fdbb17d",
   "metadata": {
    "scrolled": true
   },
   "outputs": [],
   "source": [
    "data = './data/dataset_6_security_level.csv'\n",
    "\n",
    "df = pd.read_csv(data, header=None)"
   ]
  },
  {
   "cell_type": "code",
   "execution_count": 8,
   "id": "c19f482e",
   "metadata": {},
   "outputs": [
    {
     "data": {
      "text/plain": [
       "(30, 4)"
      ]
     },
     "execution_count": 8,
     "metadata": {},
     "output_type": "execute_result"
    }
   ],
   "source": [
    "# view dimensions of dataset\n",
    "df.shape"
   ]
  },
  {
   "cell_type": "code",
   "execution_count": 9,
   "id": "9ea9f5e6",
   "metadata": {},
   "outputs": [
    {
     "data": {
      "text/html": [
       "<div>\n",
       "<style scoped>\n",
       "    .dataframe tbody tr th:only-of-type {\n",
       "        vertical-align: middle;\n",
       "    }\n",
       "\n",
       "    .dataframe tbody tr th {\n",
       "        vertical-align: top;\n",
       "    }\n",
       "\n",
       "    .dataframe thead th {\n",
       "        text-align: right;\n",
       "    }\n",
       "</style>\n",
       "<table border=\"1\" class=\"dataframe\">\n",
       "  <thead>\n",
       "    <tr style=\"text-align: right;\">\n",
       "      <th></th>\n",
       "      <th>0</th>\n",
       "      <th>1</th>\n",
       "      <th>2</th>\n",
       "      <th>3</th>\n",
       "    </tr>\n",
       "  </thead>\n",
       "  <tbody>\n",
       "    <tr>\n",
       "      <th>0</th>\n",
       "      <td>10</td>\n",
       "      <td>NC</td>\n",
       "      <td>L1</td>\n",
       "      <td>Skipjack</td>\n",
       "    </tr>\n",
       "    <tr>\n",
       "      <th>1</th>\n",
       "      <td>10</td>\n",
       "      <td>C</td>\n",
       "      <td>L2</td>\n",
       "      <td>PRINCE</td>\n",
       "    </tr>\n",
       "    <tr>\n",
       "      <th>2</th>\n",
       "      <td>10</td>\n",
       "      <td>VC</td>\n",
       "      <td>L3</td>\n",
       "      <td>RECTANGLE</td>\n",
       "    </tr>\n",
       "    <tr>\n",
       "      <th>3</th>\n",
       "      <td>20</td>\n",
       "      <td>NC</td>\n",
       "      <td>L1</td>\n",
       "      <td>LBlock</td>\n",
       "    </tr>\n",
       "    <tr>\n",
       "      <th>4</th>\n",
       "      <td>20</td>\n",
       "      <td>C</td>\n",
       "      <td>L2</td>\n",
       "      <td>PRINCE</td>\n",
       "    </tr>\n",
       "  </tbody>\n",
       "</table>\n",
       "</div>"
      ],
      "text/plain": [
       "    0   1   2          3\n",
       "0  10  NC  L1   Skipjack\n",
       "1  10   C  L2     PRINCE\n",
       "2  10  VC  L3  RECTANGLE\n",
       "3  20  NC  L1     LBlock\n",
       "4  20   C  L2     PRINCE"
      ]
     },
     "execution_count": 9,
     "metadata": {},
     "output_type": "execute_result"
    }
   ],
   "source": [
    "# preview the dataset\n",
    "df.head()"
   ]
  },
  {
   "cell_type": "markdown",
   "id": "2fdf3cf6",
   "metadata": {},
   "source": [
    "# Rename column names"
   ]
  },
  {
   "cell_type": "code",
   "execution_count": 10,
   "id": "8ffab11f",
   "metadata": {},
   "outputs": [
    {
     "data": {
      "text/plain": [
       "['Residual_Energy (%)', 'Application_Type', 'Security_Level', 'Algorithm']"
      ]
     },
     "execution_count": 10,
     "metadata": {},
     "output_type": "execute_result"
    }
   ],
   "source": [
    "col_names = ['Residual_Energy (%)', 'Application_Type', 'Security_Level', 'Algorithm']\n",
    "\n",
    "df.columns = col_names\n",
    "\n",
    "col_names"
   ]
  },
  {
   "cell_type": "code",
   "execution_count": 11,
   "id": "3f5dfc64",
   "metadata": {},
   "outputs": [
    {
     "data": {
      "text/html": [
       "<div>\n",
       "<style scoped>\n",
       "    .dataframe tbody tr th:only-of-type {\n",
       "        vertical-align: middle;\n",
       "    }\n",
       "\n",
       "    .dataframe tbody tr th {\n",
       "        vertical-align: top;\n",
       "    }\n",
       "\n",
       "    .dataframe thead th {\n",
       "        text-align: right;\n",
       "    }\n",
       "</style>\n",
       "<table border=\"1\" class=\"dataframe\">\n",
       "  <thead>\n",
       "    <tr style=\"text-align: right;\">\n",
       "      <th></th>\n",
       "      <th>Residual_Energy (%)</th>\n",
       "      <th>Application_Type</th>\n",
       "      <th>Security_Level</th>\n",
       "      <th>Algorithm</th>\n",
       "    </tr>\n",
       "  </thead>\n",
       "  <tbody>\n",
       "    <tr>\n",
       "      <th>0</th>\n",
       "      <td>10</td>\n",
       "      <td>NC</td>\n",
       "      <td>L1</td>\n",
       "      <td>Skipjack</td>\n",
       "    </tr>\n",
       "    <tr>\n",
       "      <th>1</th>\n",
       "      <td>10</td>\n",
       "      <td>C</td>\n",
       "      <td>L2</td>\n",
       "      <td>PRINCE</td>\n",
       "    </tr>\n",
       "    <tr>\n",
       "      <th>2</th>\n",
       "      <td>10</td>\n",
       "      <td>VC</td>\n",
       "      <td>L3</td>\n",
       "      <td>RECTANGLE</td>\n",
       "    </tr>\n",
       "    <tr>\n",
       "      <th>3</th>\n",
       "      <td>20</td>\n",
       "      <td>NC</td>\n",
       "      <td>L1</td>\n",
       "      <td>LBlock</td>\n",
       "    </tr>\n",
       "    <tr>\n",
       "      <th>4</th>\n",
       "      <td>20</td>\n",
       "      <td>C</td>\n",
       "      <td>L2</td>\n",
       "      <td>PRINCE</td>\n",
       "    </tr>\n",
       "  </tbody>\n",
       "</table>\n",
       "</div>"
      ],
      "text/plain": [
       "   Residual_Energy (%) Application_Type Security_Level  Algorithm\n",
       "0                   10               NC             L1   Skipjack\n",
       "1                   10                C             L2     PRINCE\n",
       "2                   10               VC             L3  RECTANGLE\n",
       "3                   20               NC             L1     LBlock\n",
       "4                   20                C             L2     PRINCE"
      ]
     },
     "execution_count": 11,
     "metadata": {},
     "output_type": "execute_result"
    }
   ],
   "source": [
    "df.head()"
   ]
  },
  {
   "cell_type": "code",
   "execution_count": 12,
   "id": "4f58a15e",
   "metadata": {},
   "outputs": [
    {
     "name": "stdout",
     "output_type": "stream",
     "text": [
      "<class 'pandas.core.frame.DataFrame'>\n",
      "RangeIndex: 30 entries, 0 to 29\n",
      "Data columns (total 4 columns):\n",
      " #   Column               Non-Null Count  Dtype \n",
      "---  ------               --------------  ----- \n",
      " 0   Residual_Energy (%)  30 non-null     int64 \n",
      " 1   Application_Type     30 non-null     object\n",
      " 2   Security_Level       30 non-null     object\n",
      " 3   Algorithm            30 non-null     object\n",
      "dtypes: int64(1), object(3)\n",
      "memory usage: 1.1+ KB\n"
     ]
    }
   ],
   "source": [
    "# View summary of dataset\n",
    "df.info()"
   ]
  },
  {
   "cell_type": "code",
   "execution_count": 13,
   "id": "22e8585f",
   "metadata": {},
   "outputs": [
    {
     "name": "stdout",
     "output_type": "stream",
     "text": [
      "10     3\n",
      "20     3\n",
      "30     3\n",
      "40     3\n",
      "50     3\n",
      "60     3\n",
      "70     3\n",
      "80     3\n",
      "90     3\n",
      "100    3\n",
      "Name: Residual_Energy (%), dtype: int64\n",
      "NC    10\n",
      "C     10\n",
      "VC    10\n",
      "Name: Application_Type, dtype: int64\n",
      "L4    10\n",
      "L3     8\n",
      "L2     4\n",
      "L5     4\n",
      "L1     2\n",
      "L6     2\n",
      "Name: Security_Level, dtype: int64\n",
      "RECTANGLE    5\n",
      "PRINCE       4\n",
      "SIMON        4\n",
      "XTEA         4\n",
      "Piccolo      3\n",
      "HIGHT        3\n",
      "PRESENT      3\n",
      "AES          2\n",
      "Skipjack     1\n",
      "LBlock       1\n",
      "Name: Algorithm, dtype: int64\n"
     ]
    }
   ],
   "source": [
    "# Frequency distribution of values in variables\n",
    "for col in col_names:   \n",
    "    print(df[col].value_counts())  "
   ]
  },
  {
   "cell_type": "code",
   "execution_count": 14,
   "id": "8a9690c4",
   "metadata": {},
   "outputs": [
    {
     "data": {
      "text/plain": [
       "RECTANGLE    5\n",
       "PRINCE       4\n",
       "SIMON        4\n",
       "XTEA         4\n",
       "Piccolo      3\n",
       "HIGHT        3\n",
       "PRESENT      3\n",
       "AES          2\n",
       "Skipjack     1\n",
       "LBlock       1\n",
       "Name: Algorithm, dtype: int64"
      ]
     },
     "execution_count": 14,
     "metadata": {},
     "output_type": "execute_result"
    }
   ],
   "source": [
    "# Explore class variable\n",
    "df['Algorithm'].value_counts()"
   ]
  },
  {
   "cell_type": "code",
   "execution_count": 15,
   "id": "866bd9de",
   "metadata": {},
   "outputs": [
    {
     "data": {
      "text/plain": [
       "Residual_Energy (%)    0\n",
       "Application_Type       0\n",
       "Security_Level         0\n",
       "Algorithm              0\n",
       "dtype: int64"
      ]
     },
     "execution_count": 15,
     "metadata": {},
     "output_type": "execute_result"
    }
   ],
   "source": [
    "# check missing values in variables\n",
    "df.isnull().sum()"
   ]
  },
  {
   "cell_type": "code",
   "execution_count": 16,
   "id": "e8af9f2b",
   "metadata": {
    "scrolled": true
   },
   "outputs": [],
   "source": [
    "#create new dataframe\n",
    "df_new = pd.DataFrame()"
   ]
  },
  {
   "cell_type": "code",
   "execution_count": 17,
   "id": "e7d72e9b",
   "metadata": {},
   "outputs": [],
   "source": [
    "from numpy import random\n",
    "\n",
    "start=0\n",
    "end=10\n",
    "for i in range(0,len(df),3):  \n",
    "    for _ in range(500):\n",
    "        rand_energy = random.uniform(start,end)\n",
    "        new_row_1 = {'Residual_Energy (%)':rand_energy,\n",
    "                   'Application_Type':df['Application_Type'][i],\n",
    "                   'Security_Level':df['Security_Level'][i],\n",
    "                   'Algorithm':df['Algorithm'][i]}\n",
    "        #append new row to the new dataframe\n",
    "        df_new = df_new.append(new_row_1, ignore_index=True)\n",
    "        \n",
    "        new_row_2 = {'Residual_Energy (%)':rand_energy,\n",
    "                   'Application_Type':df['Application_Type'][i+1],\n",
    "                   'Security_Level':df['Security_Level'][i+1],\n",
    "                   'Algorithm':df['Algorithm'][i+1]}\n",
    "        #append new row to the new dataframe\n",
    "        df_new = df_new.append(new_row_2, ignore_index=True)\n",
    "        \n",
    "        new_row_3 = {'Residual_Energy (%)':rand_energy,\n",
    "                   'Application_Type':df['Application_Type'][i+2],\n",
    "                   'Security_Level':df['Security_Level'][i+2],\n",
    "                   'Algorithm':df['Algorithm'][i+2]}\n",
    "        #append new row to the new dataframe\n",
    "        df_new = df_new.append(new_row_3, ignore_index=True)\n",
    "        \n",
    "    start=end\n",
    "    end=end+10"
   ]
  },
  {
   "cell_type": "code",
   "execution_count": 18,
   "id": "83ebabda",
   "metadata": {
    "scrolled": true
   },
   "outputs": [
    {
     "data": {
      "text/html": [
       "<div>\n",
       "<style scoped>\n",
       "    .dataframe tbody tr th:only-of-type {\n",
       "        vertical-align: middle;\n",
       "    }\n",
       "\n",
       "    .dataframe tbody tr th {\n",
       "        vertical-align: top;\n",
       "    }\n",
       "\n",
       "    .dataframe thead th {\n",
       "        text-align: right;\n",
       "    }\n",
       "</style>\n",
       "<table border=\"1\" class=\"dataframe\">\n",
       "  <thead>\n",
       "    <tr style=\"text-align: right;\">\n",
       "      <th></th>\n",
       "      <th>Residual_Energy (%)</th>\n",
       "      <th>Application_Type</th>\n",
       "      <th>Security_Level</th>\n",
       "      <th>Algorithm</th>\n",
       "    </tr>\n",
       "  </thead>\n",
       "  <tbody>\n",
       "    <tr>\n",
       "      <th>0</th>\n",
       "      <td>1.618418</td>\n",
       "      <td>NC</td>\n",
       "      <td>L1</td>\n",
       "      <td>Skipjack</td>\n",
       "    </tr>\n",
       "    <tr>\n",
       "      <th>1</th>\n",
       "      <td>1.618418</td>\n",
       "      <td>C</td>\n",
       "      <td>L2</td>\n",
       "      <td>PRINCE</td>\n",
       "    </tr>\n",
       "    <tr>\n",
       "      <th>2</th>\n",
       "      <td>1.618418</td>\n",
       "      <td>VC</td>\n",
       "      <td>L3</td>\n",
       "      <td>RECTANGLE</td>\n",
       "    </tr>\n",
       "    <tr>\n",
       "      <th>3</th>\n",
       "      <td>4.059695</td>\n",
       "      <td>NC</td>\n",
       "      <td>L1</td>\n",
       "      <td>Skipjack</td>\n",
       "    </tr>\n",
       "    <tr>\n",
       "      <th>4</th>\n",
       "      <td>4.059695</td>\n",
       "      <td>C</td>\n",
       "      <td>L2</td>\n",
       "      <td>PRINCE</td>\n",
       "    </tr>\n",
       "    <tr>\n",
       "      <th>...</th>\n",
       "      <td>...</td>\n",
       "      <td>...</td>\n",
       "      <td>...</td>\n",
       "      <td>...</td>\n",
       "    </tr>\n",
       "    <tr>\n",
       "      <th>14995</th>\n",
       "      <td>90.211248</td>\n",
       "      <td>C</td>\n",
       "      <td>L5</td>\n",
       "      <td>XTEA</td>\n",
       "    </tr>\n",
       "    <tr>\n",
       "      <th>14996</th>\n",
       "      <td>90.211248</td>\n",
       "      <td>VC</td>\n",
       "      <td>L6</td>\n",
       "      <td>AES</td>\n",
       "    </tr>\n",
       "    <tr>\n",
       "      <th>14997</th>\n",
       "      <td>97.965356</td>\n",
       "      <td>NC</td>\n",
       "      <td>L4</td>\n",
       "      <td>PRESENT</td>\n",
       "    </tr>\n",
       "    <tr>\n",
       "      <th>14998</th>\n",
       "      <td>97.965356</td>\n",
       "      <td>C</td>\n",
       "      <td>L5</td>\n",
       "      <td>XTEA</td>\n",
       "    </tr>\n",
       "    <tr>\n",
       "      <th>14999</th>\n",
       "      <td>97.965356</td>\n",
       "      <td>VC</td>\n",
       "      <td>L6</td>\n",
       "      <td>AES</td>\n",
       "    </tr>\n",
       "  </tbody>\n",
       "</table>\n",
       "<p>15000 rows × 4 columns</p>\n",
       "</div>"
      ],
      "text/plain": [
       "       Residual_Energy (%) Application_Type Security_Level  Algorithm\n",
       "0                 1.618418               NC             L1   Skipjack\n",
       "1                 1.618418                C             L2     PRINCE\n",
       "2                 1.618418               VC             L3  RECTANGLE\n",
       "3                 4.059695               NC             L1   Skipjack\n",
       "4                 4.059695                C             L2     PRINCE\n",
       "...                    ...              ...            ...        ...\n",
       "14995            90.211248                C             L5       XTEA\n",
       "14996            90.211248               VC             L6        AES\n",
       "14997            97.965356               NC             L4    PRESENT\n",
       "14998            97.965356                C             L5       XTEA\n",
       "14999            97.965356               VC             L6        AES\n",
       "\n",
       "[15000 rows x 4 columns]"
      ]
     },
     "execution_count": 18,
     "metadata": {},
     "output_type": "execute_result"
    }
   ],
   "source": [
    "df_new"
   ]
  },
  {
   "cell_type": "code",
   "execution_count": 19,
   "id": "32732ba8",
   "metadata": {},
   "outputs": [],
   "source": [
    "df = df.append(df_new, ignore_index=True)"
   ]
  },
  {
   "cell_type": "code",
   "execution_count": 20,
   "id": "b08053b5-4364-4317-ae02-dac91c6d981f",
   "metadata": {},
   "outputs": [
    {
     "data": {
      "text/html": [
       "<div>\n",
       "<style scoped>\n",
       "    .dataframe tbody tr th:only-of-type {\n",
       "        vertical-align: middle;\n",
       "    }\n",
       "\n",
       "    .dataframe tbody tr th {\n",
       "        vertical-align: top;\n",
       "    }\n",
       "\n",
       "    .dataframe thead th {\n",
       "        text-align: right;\n",
       "    }\n",
       "</style>\n",
       "<table border=\"1\" class=\"dataframe\">\n",
       "  <thead>\n",
       "    <tr style=\"text-align: right;\">\n",
       "      <th></th>\n",
       "      <th>Residual_Energy (%)</th>\n",
       "      <th>Application_Type</th>\n",
       "      <th>Security_Level</th>\n",
       "      <th>Algorithm</th>\n",
       "    </tr>\n",
       "  </thead>\n",
       "  <tbody>\n",
       "    <tr>\n",
       "      <th>0</th>\n",
       "      <td>10.000000</td>\n",
       "      <td>NC</td>\n",
       "      <td>L1</td>\n",
       "      <td>Skipjack</td>\n",
       "    </tr>\n",
       "    <tr>\n",
       "      <th>1</th>\n",
       "      <td>10.000000</td>\n",
       "      <td>C</td>\n",
       "      <td>L2</td>\n",
       "      <td>PRINCE</td>\n",
       "    </tr>\n",
       "    <tr>\n",
       "      <th>2</th>\n",
       "      <td>10.000000</td>\n",
       "      <td>VC</td>\n",
       "      <td>L3</td>\n",
       "      <td>RECTANGLE</td>\n",
       "    </tr>\n",
       "    <tr>\n",
       "      <th>3</th>\n",
       "      <td>20.000000</td>\n",
       "      <td>NC</td>\n",
       "      <td>L1</td>\n",
       "      <td>LBlock</td>\n",
       "    </tr>\n",
       "    <tr>\n",
       "      <th>4</th>\n",
       "      <td>20.000000</td>\n",
       "      <td>C</td>\n",
       "      <td>L2</td>\n",
       "      <td>PRINCE</td>\n",
       "    </tr>\n",
       "    <tr>\n",
       "      <th>...</th>\n",
       "      <td>...</td>\n",
       "      <td>...</td>\n",
       "      <td>...</td>\n",
       "      <td>...</td>\n",
       "    </tr>\n",
       "    <tr>\n",
       "      <th>15025</th>\n",
       "      <td>90.211248</td>\n",
       "      <td>C</td>\n",
       "      <td>L5</td>\n",
       "      <td>XTEA</td>\n",
       "    </tr>\n",
       "    <tr>\n",
       "      <th>15026</th>\n",
       "      <td>90.211248</td>\n",
       "      <td>VC</td>\n",
       "      <td>L6</td>\n",
       "      <td>AES</td>\n",
       "    </tr>\n",
       "    <tr>\n",
       "      <th>15027</th>\n",
       "      <td>97.965356</td>\n",
       "      <td>NC</td>\n",
       "      <td>L4</td>\n",
       "      <td>PRESENT</td>\n",
       "    </tr>\n",
       "    <tr>\n",
       "      <th>15028</th>\n",
       "      <td>97.965356</td>\n",
       "      <td>C</td>\n",
       "      <td>L5</td>\n",
       "      <td>XTEA</td>\n",
       "    </tr>\n",
       "    <tr>\n",
       "      <th>15029</th>\n",
       "      <td>97.965356</td>\n",
       "      <td>VC</td>\n",
       "      <td>L6</td>\n",
       "      <td>AES</td>\n",
       "    </tr>\n",
       "  </tbody>\n",
       "</table>\n",
       "<p>15030 rows × 4 columns</p>\n",
       "</div>"
      ],
      "text/plain": [
       "       Residual_Energy (%) Application_Type Security_Level  Algorithm\n",
       "0                10.000000               NC             L1   Skipjack\n",
       "1                10.000000                C             L2     PRINCE\n",
       "2                10.000000               VC             L3  RECTANGLE\n",
       "3                20.000000               NC             L1     LBlock\n",
       "4                20.000000                C             L2     PRINCE\n",
       "...                    ...              ...            ...        ...\n",
       "15025            90.211248                C             L5       XTEA\n",
       "15026            90.211248               VC             L6        AES\n",
       "15027            97.965356               NC             L4    PRESENT\n",
       "15028            97.965356                C             L5       XTEA\n",
       "15029            97.965356               VC             L6        AES\n",
       "\n",
       "[15030 rows x 4 columns]"
      ]
     },
     "execution_count": 20,
     "metadata": {},
     "output_type": "execute_result"
    }
   ],
   "source": [
    "df"
   ]
  },
  {
   "cell_type": "code",
   "execution_count": 21,
   "id": "13697214",
   "metadata": {},
   "outputs": [
    {
     "data": {
      "text/plain": [
       "(15030, 4)"
      ]
     },
     "execution_count": 21,
     "metadata": {},
     "output_type": "execute_result"
    }
   ],
   "source": [
    "# view dimensions of dataset\n",
    "df.shape"
   ]
  },
  {
   "cell_type": "code",
   "execution_count": 22,
   "id": "3793e301",
   "metadata": {},
   "outputs": [
    {
     "name": "stdout",
     "output_type": "stream",
     "text": [
      "<class 'pandas.core.frame.DataFrame'>\n",
      "RangeIndex: 15030 entries, 0 to 15029\n",
      "Data columns (total 4 columns):\n",
      " #   Column               Non-Null Count  Dtype  \n",
      "---  ------               --------------  -----  \n",
      " 0   Residual_Energy (%)  15030 non-null  float64\n",
      " 1   Application_Type     15030 non-null  object \n",
      " 2   Security_Level       15030 non-null  object \n",
      " 3   Algorithm            15030 non-null  object \n",
      "dtypes: float64(1), object(3)\n",
      "memory usage: 469.8+ KB\n"
     ]
    }
   ],
   "source": [
    "# View summary of dataset\n",
    "df.info()"
   ]
  },
  {
   "cell_type": "code",
   "execution_count": 23,
   "id": "48f5fd9d",
   "metadata": {},
   "outputs": [
    {
     "data": {
      "text/plain": [
       "RECTANGLE    2505\n",
       "PRINCE       2004\n",
       "SIMON        2004\n",
       "XTEA         2004\n",
       "Piccolo      1503\n",
       "HIGHT        1503\n",
       "PRESENT      1503\n",
       "AES          1002\n",
       "Skipjack      501\n",
       "LBlock        501\n",
       "Name: Algorithm, dtype: int64"
      ]
     },
     "execution_count": 23,
     "metadata": {},
     "output_type": "execute_result"
    }
   ],
   "source": [
    "# Explore class variable\n",
    "df['Algorithm'].value_counts()"
   ]
  },
  {
   "cell_type": "code",
   "execution_count": 24,
   "id": "5e94f2d7",
   "metadata": {},
   "outputs": [
    {
     "data": {
      "text/plain": [
       "Residual_Energy (%)    0\n",
       "Application_Type       0\n",
       "Security_Level         0\n",
       "Algorithm              0\n",
       "dtype: int64"
      ]
     },
     "execution_count": 24,
     "metadata": {},
     "output_type": "execute_result"
    }
   ],
   "source": [
    "# check missing values in variables\n",
    "df.isnull().sum()"
   ]
  },
  {
   "cell_type": "code",
   "execution_count": 25,
   "id": "266a0205",
   "metadata": {},
   "outputs": [
    {
     "name": "stdout",
     "output_type": "stream",
     "text": [
      "None\n"
     ]
    }
   ],
   "source": [
    "print(df.to_csv(\"dataset_6_security_level_expanded_new.csv\", encoding='utf-8', index=False))"
   ]
  },
  {
   "cell_type": "markdown",
   "id": "fbf880e3",
   "metadata": {},
   "source": [
    "# Upload final dataset"
   ]
  },
  {
   "cell_type": "code",
   "execution_count": 1,
   "id": "5a9dbfbb",
   "metadata": {},
   "outputs": [],
   "source": [
    "import numpy as np # linear algebra\n",
    "import pandas as pd # data processing\n",
    "import matplotlib.pyplot as plt # data visualization\n",
    "import pylab\n",
    "import seaborn as sns # statistical data visualization\n",
    "#%matplotlib widget\n",
    "%matplotlib inline\n",
    "import warnings\n",
    "warnings.filterwarnings(\"ignore\")\n",
    "import category_encoders as ce #import category encoders"
   ]
  },
  {
   "cell_type": "code",
   "execution_count": 2,
   "id": "3efe94e1",
   "metadata": {},
   "outputs": [
    {
     "data": {
      "text/html": [
       "<div>\n",
       "<style scoped>\n",
       "    .dataframe tbody tr th:only-of-type {\n",
       "        vertical-align: middle;\n",
       "    }\n",
       "\n",
       "    .dataframe tbody tr th {\n",
       "        vertical-align: top;\n",
       "    }\n",
       "\n",
       "    .dataframe thead th {\n",
       "        text-align: right;\n",
       "    }\n",
       "</style>\n",
       "<table border=\"1\" class=\"dataframe\">\n",
       "  <thead>\n",
       "    <tr style=\"text-align: right;\">\n",
       "      <th></th>\n",
       "      <th>0</th>\n",
       "      <th>1</th>\n",
       "      <th>2</th>\n",
       "      <th>3</th>\n",
       "    </tr>\n",
       "  </thead>\n",
       "  <tbody>\n",
       "    <tr>\n",
       "      <th>0</th>\n",
       "      <td>Residual_Energy (%)</td>\n",
       "      <td>Application_Type</td>\n",
       "      <td>Security_Level</td>\n",
       "      <td>Algorithm</td>\n",
       "    </tr>\n",
       "    <tr>\n",
       "      <th>1</th>\n",
       "      <td>10.0</td>\n",
       "      <td>NC</td>\n",
       "      <td>L1</td>\n",
       "      <td>Skipjack</td>\n",
       "    </tr>\n",
       "    <tr>\n",
       "      <th>2</th>\n",
       "      <td>10.0</td>\n",
       "      <td>C</td>\n",
       "      <td>L2</td>\n",
       "      <td>PRINCE</td>\n",
       "    </tr>\n",
       "    <tr>\n",
       "      <th>3</th>\n",
       "      <td>10.0</td>\n",
       "      <td>VC</td>\n",
       "      <td>L3</td>\n",
       "      <td>RECTANGLE</td>\n",
       "    </tr>\n",
       "    <tr>\n",
       "      <th>4</th>\n",
       "      <td>20.0</td>\n",
       "      <td>NC</td>\n",
       "      <td>L1</td>\n",
       "      <td>LBlock</td>\n",
       "    </tr>\n",
       "  </tbody>\n",
       "</table>\n",
       "</div>"
      ],
      "text/plain": [
       "                     0                 1               2          3\n",
       "0  Residual_Energy (%)  Application_Type  Security_Level  Algorithm\n",
       "1                 10.0                NC              L1   Skipjack\n",
       "2                 10.0                 C              L2     PRINCE\n",
       "3                 10.0                VC              L3  RECTANGLE\n",
       "4                 20.0                NC              L1     LBlock"
      ]
     },
     "execution_count": 2,
     "metadata": {},
     "output_type": "execute_result"
    }
   ],
   "source": [
    "df= pd.read_csv('./dataset_6_security_level_expanded_new.csv', header=None)\n",
    "df.head()"
   ]
  },
  {
   "cell_type": "code",
   "execution_count": 3,
   "id": "dd49d78c-522e-4a72-b65c-b0b7a70ad221",
   "metadata": {},
   "outputs": [
    {
     "data": {
      "text/plain": [
       "(15031, 4)"
      ]
     },
     "execution_count": 3,
     "metadata": {},
     "output_type": "execute_result"
    }
   ],
   "source": [
    "# view dimensions of dataset\n",
    "df.shape"
   ]
  },
  {
   "cell_type": "code",
   "execution_count": 4,
   "id": "14873abf",
   "metadata": {},
   "outputs": [
    {
     "data": {
      "text/plain": [
       "0\n",
       "Residual_Energy (%)    float64\n",
       "Application_Type        object\n",
       "Security_Level          object\n",
       "Algorithm               object\n",
       "dtype: object"
      ]
     },
     "execution_count": 4,
     "metadata": {},
     "output_type": "execute_result"
    }
   ],
   "source": [
    "#set column names equal to values in row index position 0\n",
    "df.columns = df.iloc[0]\n",
    "\n",
    "#remove first row from DataFrame\n",
    "df = df[1:]\n",
    "\n",
    "#convert to numeric\n",
    "df['Residual_Energy (%)'] = pd.to_numeric(df['Residual_Energy (%)'])\n",
    "df.dtypes"
   ]
  },
  {
   "cell_type": "code",
   "execution_count": 5,
   "id": "9d73d44a",
   "metadata": {},
   "outputs": [],
   "source": [
    "zz= ce.OrdinalEncoder().fit_transform(df[\"Security_Level\"])\n",
    "yy= ce.OrdinalEncoder().fit_transform(df[\"Application_Type\"])\n",
    "color= ce.OrdinalEncoder().fit_transform(df[\"Algorithm\"])"
   ]
  },
  {
   "cell_type": "code",
   "execution_count": 6,
   "id": "e7b49da0",
   "metadata": {},
   "outputs": [
    {
     "data": {
      "image/png": "[encoded data removed]",
      "text/plain": [
       "<Figure size 800x800 with 1 Axes>"
      ]
     },
     "metadata": {},
     "output_type": "display_data"
    }
   ],
   "source": [
    "fig = plt.figure(figsize=(8, 8))\n",
    "ax = fig.add_subplot(projection='3d')\n",
    "\n",
    "ax.scatter(df['Residual_Energy (%)'].values,\n",
    "           yy.values, \n",
    "           zz.values,\n",
    "           c=color.values)\n",
    "plt.show()"
   ]
  },
  {
   "cell_type": "code",
   "execution_count": 7,
   "id": "98c07f32",
   "metadata": {},
   "outputs": [
    {
     "data": {
      "image/png": "[encoded data removed]",
      "text/plain": [
       "<Figure size 640x480 with 1 Axes>"
      ]
     },
     "metadata": {},
     "output_type": "display_data"
    }
   ],
   "source": [
    "import matplotlib.pyplot\n",
    "import pylab\n",
    "\n",
    "colors = {'RECTANGLE':'red', 'PRINCE':'green', 'SIMON':'blue', 'XTEA':'yellow', 'Piccolo':'orange', \n",
    "          'HIGHT':'purple', 'PRESENT':'brown', 'AES':'gray', 'Skipjack':'black', 'LBlock':'cyan'}\n",
    "\n",
    "plt.scatter(df['Residual_Energy (%)'].values,df['Application_Type'].values,c=df['Algorithm'].map(colors))\n",
    "\n",
    "plt.xlabel(\"Residual Energy (%)\") #x label\n",
    "plt.ylabel(\"Application Type\") #y label\n",
    "\n",
    "\n",
    "plt.show()"
   ]
  },
  {
   "cell_type": "code",
   "execution_count": 8,
   "id": "28c2ac95",
   "metadata": {},
   "outputs": [],
   "source": [
    "df = df.drop('Security_Level', axis=1)"
   ]
  },
  {
   "cell_type": "code",
   "execution_count": 9,
   "id": "8fae64fc",
   "metadata": {},
   "outputs": [
    {
     "data": {
      "image/png": "[encoded data removed]",
      "text/plain": [
       "<Figure size 640x200 with 1 Axes>"
      ]
     },
     "metadata": {},
     "output_type": "display_data"
    }
   ],
   "source": [
    "fig, ax = plt.subplots()\n",
    "fig.set_figheight(2)\n",
    "grouped = df.groupby('Algorithm')\n",
    "\n",
    "for key, group in grouped:\n",
    "    group.plot(ax=ax, kind='scatter', x='Residual_Energy (%)', y='Application_Type', label=key, color=colors[key])\n",
    "\n",
    "\n",
    "plt.legend(loc='lower left', ncol=5, fontsize=7.9,  bbox_to_anchor=(0, 1,))\n",
    "\n",
    "plt.show()"
   ]
  },
  {
   "cell_type": "code",
   "execution_count": 10,
   "id": "84540621",
   "metadata": {
    "scrolled": true
   },
   "outputs": [
    {
     "data": {
      "text/html": [
       "<div>\n",
       "<style scoped>\n",
       "    .dataframe tbody tr th:only-of-type {\n",
       "        vertical-align: middle;\n",
       "    }\n",
       "\n",
       "    .dataframe tbody tr th {\n",
       "        vertical-align: top;\n",
       "    }\n",
       "\n",
       "    .dataframe thead th {\n",
       "        text-align: right;\n",
       "    }\n",
       "</style>\n",
       "<table border=\"1\" class=\"dataframe\">\n",
       "  <thead>\n",
       "    <tr style=\"text-align: right;\">\n",
       "      <th></th>\n",
       "      <th>Residual_Energy (%)</th>\n",
       "      <th>Application_Type</th>\n",
       "      <th>Algorithm</th>\n",
       "    </tr>\n",
       "  </thead>\n",
       "  <tbody>\n",
       "    <tr>\n",
       "      <th>1</th>\n",
       "      <td>10.0</td>\n",
       "      <td>NC</td>\n",
       "      <td>Skipjack</td>\n",
       "    </tr>\n",
       "    <tr>\n",
       "      <th>2</th>\n",
       "      <td>10.0</td>\n",
       "      <td>C</td>\n",
       "      <td>PRINCE</td>\n",
       "    </tr>\n",
       "    <tr>\n",
       "      <th>3</th>\n",
       "      <td>10.0</td>\n",
       "      <td>VC</td>\n",
       "      <td>RECTANGLE</td>\n",
       "    </tr>\n",
       "    <tr>\n",
       "      <th>4</th>\n",
       "      <td>20.0</td>\n",
       "      <td>NC</td>\n",
       "      <td>LBlock</td>\n",
       "    </tr>\n",
       "    <tr>\n",
       "      <th>5</th>\n",
       "      <td>20.0</td>\n",
       "      <td>C</td>\n",
       "      <td>PRINCE</td>\n",
       "    </tr>\n",
       "  </tbody>\n",
       "</table>\n",
       "</div>"
      ],
      "text/plain": [
       "0  Residual_Energy (%) Application_Type  Algorithm\n",
       "1                 10.0               NC   Skipjack\n",
       "2                 10.0                C     PRINCE\n",
       "3                 10.0               VC  RECTANGLE\n",
       "4                 20.0               NC     LBlock\n",
       "5                 20.0                C     PRINCE"
      ]
     },
     "execution_count": 10,
     "metadata": {},
     "output_type": "execute_result"
    }
   ],
   "source": [
    "df.head()"
   ]
  },
  {
   "cell_type": "code",
   "execution_count": 11,
   "id": "cf37fac1",
   "metadata": {},
   "outputs": [],
   "source": [
    "# Declare feature vector and target variable\n",
    "X = df.drop(['Algorithm'], axis=1)\n",
    "y = df['Algorithm']"
   ]
  },
  {
   "cell_type": "code",
   "execution_count": 12,
   "id": "ef1613a1",
   "metadata": {},
   "outputs": [],
   "source": [
    "# split X and y into training and testing sets\n",
    "from sklearn.model_selection import train_test_split\n",
    "\n",
    "X_train, X_test, y_train, y_test = train_test_split(X, y,\n",
    "                                                      train_size=0.6, test_size=0.4,\n",
    "                                                      random_state=0, shuffle=True)"
   ]
  },
  {
   "cell_type": "code",
   "execution_count": 13,
   "id": "b44d1dda",
   "metadata": {},
   "outputs": [
    {
     "data": {
      "text/plain": [
       "((9018, 2), (6012, 2))"
      ]
     },
     "execution_count": 13,
     "metadata": {},
     "output_type": "execute_result"
    }
   ],
   "source": [
    "# check the shape of X_train and X_test\n",
    "\n",
    "X_train.shape, X_test.shape"
   ]
  },
  {
   "cell_type": "code",
   "execution_count": 14,
   "id": "076e0a7b",
   "metadata": {},
   "outputs": [
    {
     "data": {
      "text/html": [
       "<div>\n",
       "<style scoped>\n",
       "    .dataframe tbody tr th:only-of-type {\n",
       "        vertical-align: middle;\n",
       "    }\n",
       "\n",
       "    .dataframe tbody tr th {\n",
       "        vertical-align: top;\n",
       "    }\n",
       "\n",
       "    .dataframe thead th {\n",
       "        text-align: right;\n",
       "    }\n",
       "</style>\n",
       "<table border=\"1\" class=\"dataframe\">\n",
       "  <thead>\n",
       "    <tr style=\"text-align: right;\">\n",
       "      <th></th>\n",
       "      <th>Residual_Energy (%)</th>\n",
       "      <th>Application_Type</th>\n",
       "    </tr>\n",
       "  </thead>\n",
       "  <tbody>\n",
       "    <tr>\n",
       "      <th>11723</th>\n",
       "      <td>75.754710</td>\n",
       "      <td>C</td>\n",
       "    </tr>\n",
       "    <tr>\n",
       "      <th>1286</th>\n",
       "      <td>7.705162</td>\n",
       "      <td>C</td>\n",
       "    </tr>\n",
       "    <tr>\n",
       "      <th>7090</th>\n",
       "      <td>46.638836</td>\n",
       "      <td>NC</td>\n",
       "    </tr>\n",
       "    <tr>\n",
       "      <th>13793</th>\n",
       "      <td>97.446732</td>\n",
       "      <td>C</td>\n",
       "    </tr>\n",
       "    <tr>\n",
       "      <th>1867</th>\n",
       "      <td>16.619221</td>\n",
       "      <td>NC</td>\n",
       "    </tr>\n",
       "  </tbody>\n",
       "</table>\n",
       "</div>"
      ],
      "text/plain": [
       "0      Residual_Energy (%) Application_Type\n",
       "11723            75.754710                C\n",
       "1286              7.705162                C\n",
       "7090             46.638836               NC\n",
       "13793            97.446732                C\n",
       "1867             16.619221               NC"
      ]
     },
     "execution_count": 14,
     "metadata": {},
     "output_type": "execute_result"
    }
   ],
   "source": [
    "X_train.head()"
   ]
  },
  {
   "cell_type": "code",
   "execution_count": 15,
   "id": "c182b85e-8678-45ce-8a3b-c5df1becc0d6",
   "metadata": {},
   "outputs": [
    {
     "name": "stdout",
     "output_type": "stream",
     "text": [
      "Categorical columns that will be one-hot encoded: ['Application_Type']\n",
      "\n",
      "Categorical columns that will be dropped from the dataset: []\n"
     ]
    }
   ],
   "source": [
    "# All categorical columns\n",
    "object_cols = [col for col in X_train.columns if X_train[col].dtype == \"object\"]\n",
    "\n",
    "# Columns that will be one-hot encoded\n",
    "low_cardinality_cols = [col for col in object_cols if X_train[col].nunique() < 10]\n",
    "\n",
    "# Columns that will be dropped from the dataset\n",
    "high_cardinality_cols = list(set(object_cols)-set(low_cardinality_cols))\n",
    "\n",
    "print('Categorical columns that will be one-hot encoded:', low_cardinality_cols)\n",
    "print('\\nCategorical columns that will be dropped from the dataset:', high_cardinality_cols)"
   ]
  },
  {
   "cell_type": "code",
   "execution_count": 16,
   "id": "59f8377e-e936-448e-93a8-ba8047e9f98e",
   "metadata": {},
   "outputs": [],
   "source": [
    "# Drop columns in training and validation data\n",
    "num_X_train = X_train.select_dtypes(exclude=['object'])\n",
    "num_X_test = X_test.select_dtypes(exclude=['object'])\n",
    "\n",
    "#one-hot encoded columns\n",
    "OH_cols_train = pd.get_dummies(X_train[low_cardinality_cols],drop_first=False)\n",
    "OH_cols_test = pd.get_dummies(X_test[low_cardinality_cols],drop_first=False)\n",
    "\n",
    "# Add one-hot encoded columns to numerical features\n",
    "X_train = pd.concat([num_X_train, OH_cols_train], axis=1)\n",
    "X_test = pd.concat([num_X_test, OH_cols_test], axis=1)"
   ]
  },
  {
   "cell_type": "code",
   "execution_count": 17,
   "id": "4ca69149",
   "metadata": {},
   "outputs": [
    {
     "data": {
      "text/html": [
       "<div>\n",
       "<style scoped>\n",
       "    .dataframe tbody tr th:only-of-type {\n",
       "        vertical-align: middle;\n",
       "    }\n",
       "\n",
       "    .dataframe tbody tr th {\n",
       "        vertical-align: top;\n",
       "    }\n",
       "\n",
       "    .dataframe thead th {\n",
       "        text-align: right;\n",
       "    }\n",
       "</style>\n",
       "<table border=\"1\" class=\"dataframe\">\n",
       "  <thead>\n",
       "    <tr style=\"text-align: right;\">\n",
       "      <th></th>\n",
       "      <th>Residual_Energy (%)</th>\n",
       "      <th>Application_Type_C</th>\n",
       "      <th>Application_Type_NC</th>\n",
       "      <th>Application_Type_VC</th>\n",
       "    </tr>\n",
       "  </thead>\n",
       "  <tbody>\n",
       "    <tr>\n",
       "      <th>11723</th>\n",
       "      <td>75.754710</td>\n",
       "      <td>1</td>\n",
       "      <td>0</td>\n",
       "      <td>0</td>\n",
       "    </tr>\n",
       "    <tr>\n",
       "      <th>1286</th>\n",
       "      <td>7.705162</td>\n",
       "      <td>1</td>\n",
       "      <td>0</td>\n",
       "      <td>0</td>\n",
       "    </tr>\n",
       "    <tr>\n",
       "      <th>7090</th>\n",
       "      <td>46.638836</td>\n",
       "      <td>0</td>\n",
       "      <td>1</td>\n",
       "      <td>0</td>\n",
       "    </tr>\n",
       "    <tr>\n",
       "      <th>13793</th>\n",
       "      <td>97.446732</td>\n",
       "      <td>1</td>\n",
       "      <td>0</td>\n",
       "      <td>0</td>\n",
       "    </tr>\n",
       "    <tr>\n",
       "      <th>1867</th>\n",
       "      <td>16.619221</td>\n",
       "      <td>0</td>\n",
       "      <td>1</td>\n",
       "      <td>0</td>\n",
       "    </tr>\n",
       "  </tbody>\n",
       "</table>\n",
       "</div>"
      ],
      "text/plain": [
       "       Residual_Energy (%)  Application_Type_C  Application_Type_NC  \\\n",
       "11723            75.754710                   1                    0   \n",
       "1286              7.705162                   1                    0   \n",
       "7090             46.638836                   0                    1   \n",
       "13793            97.446732                   1                    0   \n",
       "1867             16.619221                   0                    1   \n",
       "\n",
       "       Application_Type_VC  \n",
       "11723                    0  \n",
       "1286                     0  \n",
       "7090                     0  \n",
       "13793                    0  \n",
       "1867                     0  "
      ]
     },
     "execution_count": 17,
     "metadata": {},
     "output_type": "execute_result"
    }
   ],
   "source": [
    "X_train.head()"
   ]
  },
  {
   "cell_type": "code",
   "execution_count": 18,
   "id": "05b00f37",
   "metadata": {},
   "outputs": [
    {
     "data": {
      "text/html": [
       "<div>\n",
       "<style scoped>\n",
       "    .dataframe tbody tr th:only-of-type {\n",
       "        vertical-align: middle;\n",
       "    }\n",
       "\n",
       "    .dataframe tbody tr th {\n",
       "        vertical-align: top;\n",
       "    }\n",
       "\n",
       "    .dataframe thead th {\n",
       "        text-align: right;\n",
       "    }\n",
       "</style>\n",
       "<table border=\"1\" class=\"dataframe\">\n",
       "  <thead>\n",
       "    <tr style=\"text-align: right;\">\n",
       "      <th></th>\n",
       "      <th>Residual_Energy (%)</th>\n",
       "      <th>Application_Type_C</th>\n",
       "      <th>Application_Type_NC</th>\n",
       "      <th>Application_Type_VC</th>\n",
       "    </tr>\n",
       "  </thead>\n",
       "  <tbody>\n",
       "    <tr>\n",
       "      <th>5307</th>\n",
       "      <td>34.202443</td>\n",
       "      <td>0</td>\n",
       "      <td>0</td>\n",
       "      <td>1</td>\n",
       "    </tr>\n",
       "    <tr>\n",
       "      <th>1426</th>\n",
       "      <td>4.317280</td>\n",
       "      <td>0</td>\n",
       "      <td>1</td>\n",
       "      <td>0</td>\n",
       "    </tr>\n",
       "    <tr>\n",
       "      <th>6063</th>\n",
       "      <td>40.680966</td>\n",
       "      <td>0</td>\n",
       "      <td>0</td>\n",
       "      <td>1</td>\n",
       "    </tr>\n",
       "    <tr>\n",
       "      <th>3421</th>\n",
       "      <td>20.785190</td>\n",
       "      <td>0</td>\n",
       "      <td>1</td>\n",
       "      <td>0</td>\n",
       "    </tr>\n",
       "    <tr>\n",
       "      <th>1747</th>\n",
       "      <td>11.203536</td>\n",
       "      <td>0</td>\n",
       "      <td>1</td>\n",
       "      <td>0</td>\n",
       "    </tr>\n",
       "  </tbody>\n",
       "</table>\n",
       "</div>"
      ],
      "text/plain": [
       "      Residual_Energy (%)  Application_Type_C  Application_Type_NC  \\\n",
       "5307            34.202443                   0                    0   \n",
       "1426             4.317280                   0                    1   \n",
       "6063            40.680966                   0                    0   \n",
       "3421            20.785190                   0                    1   \n",
       "1747            11.203536                   0                    1   \n",
       "\n",
       "      Application_Type_VC  \n",
       "5307                    1  \n",
       "1426                    0  \n",
       "6063                    1  \n",
       "3421                    0  \n",
       "1747                    0  "
      ]
     },
     "execution_count": 18,
     "metadata": {},
     "output_type": "execute_result"
    }
   ],
   "source": [
    "X_test.head()"
   ]
  },
  {
   "cell_type": "markdown",
   "id": "591df800",
   "metadata": {},
   "source": [
    "# Decision Tree Classifier with criterion gini index"
   ]
  },
  {
   "cell_type": "code",
   "execution_count": 19,
   "id": "2b54c140",
   "metadata": {},
   "outputs": [],
   "source": [
    "# import DecisionTreeClassifier\n",
    "\n",
    "from sklearn.tree import DecisionTreeClassifier"
   ]
  },
  {
   "cell_type": "code",
   "execution_count": 20,
   "id": "cb004a04",
   "metadata": {},
   "outputs": [
    {
     "data": {
      "text/plain": [
       "DecisionTreeClassifier(random_state=30)"
      ]
     },
     "execution_count": 20,
     "metadata": {},
     "output_type": "execute_result"
    }
   ],
   "source": [
    "# instantiate the DecisionTreeClassifier model with criterion gini index\n",
    "\n",
    "clf_gini = DecisionTreeClassifier(criterion='gini', random_state=30)#criterion{“gini”, “entropy”, “log_loss”}, default=”gini”  , max_depth=7\n",
    "\n",
    "\n",
    "# fit the model\n",
    "clf_gini.fit(X_train, y_train)"
   ]
  },
  {
   "cell_type": "code",
   "execution_count": 21,
   "id": "4f0b518b",
   "metadata": {},
   "outputs": [],
   "source": [
    "y_pred_gini = clf_gini.predict(X_test)"
   ]
  },
  {
   "cell_type": "code",
   "execution_count": 24,
   "id": "aa82b17a",
   "metadata": {},
   "outputs": [
    {
     "name": "stdout",
     "output_type": "stream",
     "text": [
      "Model accuracy score with criterion gini index: 0.9982\n",
      "Model precision score with criterion gini index: 0.9982\n",
      "Model f1 score with criterion gini index: 0.9982\n",
      "Model recall score with criterion gini index: 0.9982\n"
     ]
    }
   ],
   "source": [
    "from sklearn.metrics import accuracy_score\n",
    "from sklearn.metrics import f1_score\n",
    "from sklearn.metrics import recall_score\n",
    "from sklearn.metrics import precision_score\n",
    "\n",
    "print('Model accuracy score with criterion gini index: {0:0.4f}'. format(accuracy_score(y_test, y_pred_gini)))\n",
    "print('Model precision score with criterion gini index: {0:0.4f}'. format(precision_score(y_test, y_pred_gini, average='micro')))\n",
    "print('Model f1 score with criterion gini index: {0:0.4f}'. format(f1_score(y_test, y_pred_gini, average='micro')))\n",
    "print('Model recall score with criterion gini index: {0:0.4f}'. format(recall_score(y_test, y_pred_gini, average='micro')))"
   ]
  },
  {
   "cell_type": "code",
   "execution_count": 25,
   "id": "a2be7ccd",
   "metadata": {},
   "outputs": [
    {
     "data": {
      "text/plain": [
       "array(['PRESENT', 'PRINCE', 'RECTANGLE', ..., 'XTEA', 'XTEA', 'RECTANGLE'],\n",
       "      dtype=object)"
      ]
     },
     "execution_count": 25,
     "metadata": {},
     "output_type": "execute_result"
    }
   ],
   "source": [
    "y_pred_train_gini = clf_gini.predict(X_train)\n",
    "\n",
    "y_pred_train_gini"
   ]
  },
  {
   "cell_type": "code",
   "execution_count": 26,
   "id": "146c3d81",
   "metadata": {},
   "outputs": [
    {
     "name": "stdout",
     "output_type": "stream",
     "text": [
      "Training-set accuracy score: 1.0000\n"
     ]
    }
   ],
   "source": [
    "print('Training-set accuracy score: {0:0.4f}'. format(accuracy_score(y_train, y_pred_train_gini)))"
   ]
  },
  {
   "cell_type": "code",
   "execution_count": 27,
   "id": "95455a3a",
   "metadata": {},
   "outputs": [
    {
     "name": "stdout",
     "output_type": "stream",
     "text": [
      "Training set score: 1.0000\n",
      "Test set score: 0.9982\n"
     ]
    }
   ],
   "source": [
    "# print the scores on training and test set\n",
    "\n",
    "print('Training set score: {:.4f}'.format(clf_gini.score(X_train, y_train)))\n",
    "\n",
    "print('Test set score: {:.4f}'.format(clf_gini.score(X_test, y_test)))"
   ]
  },
  {
   "cell_type": "code",
   "execution_count": 28,
   "id": "1b54b6b5",
   "metadata": {},
   "outputs": [],
   "source": [
    "# plt.figure(figsize=(12,8))\n",
    "\n",
    "# from sklearn import tree\n",
    "\n",
    "# tree.plot_tree(clf_gini.fit(X_train, y_train)) "
   ]
  },
  {
   "cell_type": "code",
   "execution_count": 29,
   "id": "750db83d",
   "metadata": {},
   "outputs": [
    {
     "data": {
      "text/plain": [
       "'my_decision_tree_gini_new.png'"
      ]
     },
     "execution_count": 29,
     "metadata": {},
     "output_type": "execute_result"
    }
   ],
   "source": [
    "from sklearn import tree\n",
    "import graphviz \n",
    "dot_data = tree.export_graphviz(clf_gini, out_file=None, \n",
    "                              feature_names=X_train.columns,  \n",
    "                              class_names=clf_gini.classes_,  \n",
    "                              filled=True, rounded=True,  \n",
    "                              special_characters=True)\n",
    "\n",
    "graph = graphviz.Source(dot_data) \n",
    "graph.render('my_decision_tree_gini_new',format='png', view=False)\n",
    "#graph "
   ]
  },
  {
   "cell_type": "code",
   "execution_count": 30,
   "id": "cb02a4f5",
   "metadata": {},
   "outputs": [
    {
     "name": "stdout",
     "output_type": "stream",
     "text": [
      "|--- feature_0 <= 59.99\n",
      "|   |--- feature_0 <= 39.99\n",
      "|   |   |--- feature_3 <= 0.50\n",
      "|   |   |   |--- feature_0 <= 10.00\n",
      "|   |   |   |   |--- feature_1 <= 0.50\n",
      "|   |   |   |   |   |--- class: Skipjack\n",
      "|   |   |   |   |--- feature_1 >  0.50\n",
      "|   |   |   |   |   |--- class: PRINCE\n",
      "|   |   |   |--- feature_0 >  10.00\n",
      "|   |   |   |   |--- feature_1 <= 0.50\n",
      "|   |   |   |   |   |--- feature_0 <= 20.02\n",
      "|   |   |   |   |   |   |--- class: LBlock\n",
      "|   |   |   |   |   |--- feature_0 >  20.02\n",
      "|   |   |   |   |   |   |--- class: PRINCE\n",
      "|   |   |   |   |--- feature_1 >  0.50\n",
      "|   |   |   |   |   |--- feature_0 <= 20.01\n",
      "|   |   |   |   |   |   |--- class: PRINCE\n",
      "|   |   |   |   |   |--- feature_0 >  20.01\n",
      "|   |   |   |   |   |   |--- feature_0 <= 30.06\n",
      "|   |   |   |   |   |   |   |--- class: RECTANGLE\n",
      "|   |   |   |   |   |   |--- feature_0 >  30.06\n",
      "|   |   |   |   |   |   |   |--- class: Piccolo\n",
      "|   |   |--- feature_3 >  0.50\n",
      "|   |   |   |--- feature_0 <= 20.01\n",
      "|   |   |   |   |--- class: RECTANGLE\n",
      "|   |   |   |--- feature_0 >  20.01\n",
      "|   |   |   |   |--- feature_0 <= 30.09\n",
      "|   |   |   |   |   |--- class: Piccolo\n",
      "|   |   |   |   |--- feature_0 >  30.09\n",
      "|   |   |   |   |   |--- class: SIMON\n",
      "|   |--- feature_0 >  39.99\n",
      "|   |   |--- feature_2 <= 0.50\n",
      "|   |   |   |--- feature_1 <= 0.50\n",
      "|   |   |   |   |--- feature_0 <= 49.98\n",
      "|   |   |   |   |   |--- feature_0 <= 40.02\n",
      "|   |   |   |   |   |   |--- class: SIMON\n",
      "|   |   |   |   |   |--- feature_0 >  40.02\n",
      "|   |   |   |   |   |   |--- class: HIGHT\n",
      "|   |   |   |   |--- feature_0 >  49.98\n",
      "|   |   |   |   |   |--- class: PRESENT\n",
      "|   |   |   |--- feature_1 >  0.50\n",
      "|   |   |   |   |--- feature_0 <= 40.02\n",
      "|   |   |   |   |   |--- class: Piccolo\n",
      "|   |   |   |   |--- feature_0 >  40.02\n",
      "|   |   |   |   |   |--- class: SIMON\n",
      "|   |   |--- feature_2 >  0.50\n",
      "|   |   |   |--- class: RECTANGLE\n",
      "|--- feature_0 >  59.99\n",
      "|   |--- feature_3 <= 0.50\n",
      "|   |   |--- feature_0 <= 70.00\n",
      "|   |   |   |--- feature_2 <= 0.50\n",
      "|   |   |   |   |--- class: HIGHT\n",
      "|   |   |   |--- feature_2 >  0.50\n",
      "|   |   |   |   |--- class: Piccolo\n",
      "|   |   |--- feature_0 >  70.00\n",
      "|   |   |   |--- feature_2 <= 0.50\n",
      "|   |   |   |   |--- feature_0 <= 80.02\n",
      "|   |   |   |   |   |--- class: PRESENT\n",
      "|   |   |   |   |--- feature_0 >  80.02\n",
      "|   |   |   |   |   |--- class: XTEA\n",
      "|   |   |   |--- feature_2 >  0.50\n",
      "|   |   |   |   |--- feature_0 <= 90.01\n",
      "|   |   |   |   |   |--- feature_0 <= 80.02\n",
      "|   |   |   |   |   |   |--- class: SIMON\n",
      "|   |   |   |   |   |--- feature_0 >  80.02\n",
      "|   |   |   |   |   |   |--- class: HIGHT\n",
      "|   |   |   |   |--- feature_0 >  90.01\n",
      "|   |   |   |   |   |--- class: PRESENT\n",
      "|   |--- feature_3 >  0.50\n",
      "|   |   |--- feature_0 <= 80.01\n",
      "|   |   |   |--- feature_0 <= 60.03\n",
      "|   |   |   |   |--- class: PRESENT\n",
      "|   |   |   |--- feature_0 >  60.03\n",
      "|   |   |   |   |--- class: XTEA\n",
      "|   |   |--- feature_0 >  80.01\n",
      "|   |   |   |--- class: AES\n",
      "\n"
     ]
    }
   ],
   "source": [
    "text_representation = tree.export_text(clf_gini)\n",
    "print(text_representation)"
   ]
  },
  {
   "cell_type": "code",
   "execution_count": 31,
   "id": "499aff9c",
   "metadata": {},
   "outputs": [
    {
     "data": {
      "image/png": "[encoded data removed]",
      "text/plain": [
       "<Figure size 640x480 with 2 Axes>"
      ]
     },
     "metadata": {},
     "output_type": "display_data"
    }
   ],
   "source": [
    "import matplotlib.pyplot as plt\n",
    "from sklearn.metrics import confusion_matrix, ConfusionMatrixDisplay\n",
    "\n",
    "\n",
    "cm = confusion_matrix(y_test, y_pred_gini, labels=clf_gini.classes_)\n",
    "disp = ConfusionMatrixDisplay(confusion_matrix=cm,\n",
    "                              display_labels=clf_gini.classes_)\n",
    "disp.plot(xticks_rotation='vertical',cmap=plt.cm.Blues)\n",
    "\n",
    "plt.show()"
   ]
  },
  {
   "cell_type": "markdown",
   "id": "54954e13",
   "metadata": {},
   "source": [
    "# Decision Tree Classifier with criterion entropy index"
   ]
  },
  {
   "cell_type": "code",
   "execution_count": 32,
   "id": "384a4fcb",
   "metadata": {},
   "outputs": [
    {
     "data": {
      "text/plain": [
       "DecisionTreeClassifier(criterion='entropy', random_state=30)"
      ]
     },
     "execution_count": 32,
     "metadata": {},
     "output_type": "execute_result"
    }
   ],
   "source": [
    "# instantiate the DecisionTreeClassifier model with criterion entropy index\n",
    "\n",
    "clf_entropy = DecisionTreeClassifier(criterion='entropy', random_state=30)#criterion{“gini”, “entropy”, “log_loss”}, default=”gini”  , max_depth=7\n",
    "\n",
    "\n",
    "# fit the model\n",
    "clf_entropy.fit(X_train, y_train)"
   ]
  },
  {
   "cell_type": "code",
   "execution_count": 33,
   "id": "21419b84",
   "metadata": {},
   "outputs": [],
   "source": [
    "y_pred_entropy = clf_entropy.predict(X_test)"
   ]
  },
  {
   "cell_type": "code",
   "execution_count": 34,
   "id": "1b1d8f3e",
   "metadata": {},
   "outputs": [
    {
     "name": "stdout",
     "output_type": "stream",
     "text": [
      "Model accuracy score with criterion gini index: 0.9988\n",
      "Model f1 score with criterion gini index: 0.9988\n",
      "Model recall score with criterion gini index: 0.9988\n",
      "Model precision score with criterion gini index: 0.9988\n"
     ]
    }
   ],
   "source": [
    "from sklearn.metrics import accuracy_score\n",
    "from sklearn.metrics import f1_score\n",
    "from sklearn.metrics import recall_score\n",
    "from sklearn.metrics import precision_score\n",
    "\n",
    "print('Model accuracy score with criterion gini index: {0:0.4f}'. format(accuracy_score(y_test, y_pred_entropy)))\n",
    "print('Model f1 score with criterion gini index: {0:0.4f}'. format(f1_score(y_test, y_pred_entropy, average='micro')))\n",
    "print('Model recall score with criterion gini index: {0:0.4f}'. format(recall_score(y_test, y_pred_entropy, average='micro')))\n",
    "print('Model precision score with criterion gini index: {0:0.4f}'. format(precision_score(y_test, y_pred_entropy, average='micro')))"
   ]
  },
  {
   "cell_type": "code",
   "execution_count": 35,
   "id": "4776dca8",
   "metadata": {},
   "outputs": [
    {
     "data": {
      "text/plain": [
       "array(['PRESENT', 'PRINCE', 'RECTANGLE', ..., 'XTEA', 'XTEA', 'RECTANGLE'],\n",
       "      dtype=object)"
      ]
     },
     "execution_count": 35,
     "metadata": {},
     "output_type": "execute_result"
    }
   ],
   "source": [
    "y_pred_train_entropy = clf_entropy.predict(X_train)\n",
    "\n",
    "y_pred_train_entropy"
   ]
  },
  {
   "cell_type": "code",
   "execution_count": 36,
   "id": "7da8218c",
   "metadata": {},
   "outputs": [
    {
     "name": "stdout",
     "output_type": "stream",
     "text": [
      "Training-set accuracy score: 1.0000\n"
     ]
    }
   ],
   "source": [
    "print('Training-set accuracy score: {0:0.4f}'. format(accuracy_score(y_train, y_pred_train_entropy)))"
   ]
  },
  {
   "cell_type": "code",
   "execution_count": 37,
   "id": "068489c2",
   "metadata": {},
   "outputs": [
    {
     "name": "stdout",
     "output_type": "stream",
     "text": [
      "Training set score: 1.0000\n",
      "Test set score: 0.9988\n"
     ]
    }
   ],
   "source": [
    "# print the scores on training and test set\n",
    "\n",
    "print('Training set score: {:.4f}'.format(clf_entropy.score(X_train, y_train)))\n",
    "\n",
    "print('Test set score: {:.4f}'.format(clf_entropy.score(X_test, y_test)))"
   ]
  },
  {
   "cell_type": "code",
   "execution_count": 38,
   "id": "5a167f52",
   "metadata": {},
   "outputs": [
    {
     "data": {
      "text/plain": [
       "'my_decision_tree_entropy_new.png'"
      ]
     },
     "execution_count": 38,
     "metadata": {},
     "output_type": "execute_result"
    }
   ],
   "source": [
    "from sklearn import tree\n",
    "import graphviz \n",
    "dot_data = tree.export_graphviz(clf_entropy, out_file=None, \n",
    "                              feature_names=X_train.columns,  \n",
    "                              class_names=clf_entropy.classes_,  \n",
    "                              filled=True, rounded=True,  \n",
    "                              special_characters=True)\n",
    "\n",
    "graph = graphviz.Source(dot_data) \n",
    "graph.render('my_decision_tree_entropy_new',format='png', view=False)\n",
    "#graph "
   ]
  },
  {
   "cell_type": "code",
   "execution_count": 39,
   "id": "21dd0fa1",
   "metadata": {},
   "outputs": [
    {
     "name": "stdout",
     "output_type": "stream",
     "text": [
      "|--- feature_0 <= 40.02\n",
      "|   |--- feature_2 <= 0.50\n",
      "|   |   |--- feature_0 <= 20.01\n",
      "|   |   |   |--- feature_1 <= 0.50\n",
      "|   |   |   |   |--- class: RECTANGLE\n",
      "|   |   |   |--- feature_1 >  0.50\n",
      "|   |   |   |   |--- class: PRINCE\n",
      "|   |   |--- feature_0 >  20.01\n",
      "|   |   |   |--- feature_3 <= 0.50\n",
      "|   |   |   |   |--- feature_0 <= 30.06\n",
      "|   |   |   |   |   |--- class: RECTANGLE\n",
      "|   |   |   |   |--- feature_0 >  30.06\n",
      "|   |   |   |   |   |--- class: Piccolo\n",
      "|   |   |   |--- feature_3 >  0.50\n",
      "|   |   |   |   |--- feature_0 <= 30.09\n",
      "|   |   |   |   |   |--- class: Piccolo\n",
      "|   |   |   |   |--- feature_0 >  30.09\n",
      "|   |   |   |   |   |--- class: SIMON\n",
      "|   |--- feature_2 >  0.50\n",
      "|   |   |--- feature_0 <= 20.02\n",
      "|   |   |   |--- feature_0 <= 10.00\n",
      "|   |   |   |   |--- class: Skipjack\n",
      "|   |   |   |--- feature_0 >  10.00\n",
      "|   |   |   |   |--- class: LBlock\n",
      "|   |   |--- feature_0 >  20.02\n",
      "|   |   |   |--- class: PRINCE\n",
      "|--- feature_0 >  40.02\n",
      "|   |--- feature_2 <= 0.50\n",
      "|   |   |--- feature_0 <= 80.02\n",
      "|   |   |   |--- feature_3 <= 0.50\n",
      "|   |   |   |   |--- feature_0 <= 60.01\n",
      "|   |   |   |   |   |--- class: SIMON\n",
      "|   |   |   |   |--- feature_0 >  60.01\n",
      "|   |   |   |   |   |--- feature_0 <= 70.00\n",
      "|   |   |   |   |   |   |--- class: HIGHT\n",
      "|   |   |   |   |   |--- feature_0 >  70.00\n",
      "|   |   |   |   |   |   |--- class: PRESENT\n",
      "|   |   |   |--- feature_3 >  0.50\n",
      "|   |   |   |   |--- feature_0 <= 60.03\n",
      "|   |   |   |   |   |--- feature_0 <= 49.98\n",
      "|   |   |   |   |   |   |--- class: HIGHT\n",
      "|   |   |   |   |   |--- feature_0 >  49.98\n",
      "|   |   |   |   |   |   |--- class: PRESENT\n",
      "|   |   |   |   |--- feature_0 >  60.03\n",
      "|   |   |   |   |   |--- class: XTEA\n",
      "|   |   |--- feature_0 >  80.02\n",
      "|   |   |   |--- feature_1 <= 0.50\n",
      "|   |   |   |   |--- class: AES\n",
      "|   |   |   |--- feature_1 >  0.50\n",
      "|   |   |   |   |--- class: XTEA\n",
      "|   |--- feature_2 >  0.50\n",
      "|   |   |--- feature_0 <= 69.99\n",
      "|   |   |   |--- feature_0 <= 60.01\n",
      "|   |   |   |   |--- class: RECTANGLE\n",
      "|   |   |   |--- feature_0 >  60.01\n",
      "|   |   |   |   |--- class: Piccolo\n",
      "|   |   |--- feature_0 >  69.99\n",
      "|   |   |   |--- feature_0 <= 90.01\n",
      "|   |   |   |   |--- feature_0 <= 80.02\n",
      "|   |   |   |   |   |--- class: SIMON\n",
      "|   |   |   |   |--- feature_0 >  80.02\n",
      "|   |   |   |   |   |--- class: HIGHT\n",
      "|   |   |   |--- feature_0 >  90.01\n",
      "|   |   |   |   |--- class: PRESENT\n",
      "\n"
     ]
    }
   ],
   "source": [
    "text_representation = tree.export_text(clf_entropy)\n",
    "print(text_representation)"
   ]
  },
  {
   "cell_type": "code",
   "execution_count": 40,
   "id": "d5cefbf5",
   "metadata": {},
   "outputs": [
    {
     "data": {
      "image/png": "[encoded data removed]",
      "text/plain": [
       "<Figure size 640x480 with 2 Axes>"
      ]
     },
     "metadata": {},
     "output_type": "display_data"
    }
   ],
   "source": [
    "import matplotlib.pyplot as plt\n",
    "from sklearn.metrics import confusion_matrix, ConfusionMatrixDisplay\n",
    "\n",
    "\n",
    "cm = confusion_matrix(y_test, y_pred_entropy, labels=clf_entropy.classes_)\n",
    "disp = ConfusionMatrixDisplay(confusion_matrix=cm,\n",
    "                              display_labels=clf_entropy.classes_)\n",
    "disp.plot(xticks_rotation='vertical',cmap=plt.cm.Blues)\n",
    "\n",
    "plt.show()"
   ]
  },
  {
   "cell_type": "code",
   "execution_count": 57,
   "id": "05908f61",
   "metadata": {},
   "outputs": [
    {
     "data": {
      "image/png": "[encoded data removed]",
      "text/plain": [
       "<Figure size 640x480 with 2 Axes>"
      ]
     },
     "metadata": {},
     "output_type": "display_data"
    }
   ],
   "source": [
    "import seaborn as sns\n",
    "import matplotlib.pyplot as plt     \n",
    "\n",
    "ax= plt.subplot()\n",
    "sns.heatmap(cm, annot=True, fmt='g', ax=ax);  #annot=True to annotate cells, ftm='g' to disable scientific notation\n",
    "\n",
    "# labels, title and ticks\n",
    "ax.set_xlabel('Predicted Encryption Algorithm');ax.set_ylabel('True Encryption Algorithm'); \n",
    "#ax.xaxis.set_ticklabels(['business', 'health']); ax.yaxis.set_ticklabels(['health', 'business']);\n",
    "ax.xaxis.set_ticklabels(clf_entropy.classes_, rotation = 0);\n",
    "ax.yaxis.set_ticklabels(clf_entropy.classes_, rotation = 0);\n",
    "\n",
    "#disp.plot(xticks_rotation='vertical',cmap=plt.cm.Blues)"
   ]
  },
  {
   "cell_type": "markdown",
   "id": "3aacfcd0",
   "metadata": {},
   "source": [
    "## comparision gini vs entropy"
   ]
  },
  {
   "cell_type": "code",
   "execution_count": 121,
   "id": "37490a26",
   "metadata": {},
   "outputs": [
    {
     "name": "stdout",
     "output_type": "stream",
     "text": [
      "Test set score entropy: 0.9988\n",
      "Test set score gini: 0.9982\n"
     ]
    }
   ],
   "source": [
    "print('Test set score entropy: {:.4f}'.format(clf_entropy.score(X_test, y_test)))\n",
    "print('Test set score gini: {:.4f}'.format(clf_gini.score(X_test, y_test)))"
   ]
  },
  {
   "cell_type": "markdown",
   "id": "38ba5687",
   "metadata": {},
   "source": [
    "# Comparision with other Algo"
   ]
  },
  {
   "cell_type": "code",
   "execution_count": 64,
   "id": "5c0b0be8",
   "metadata": {},
   "outputs": [],
   "source": [
    "import pandas\n",
    "import matplotlib.pyplot as plt\n",
    "from sklearn import model_selection\n",
    "from sklearn.ensemble import RandomForestClassifier,GradientBoostingClassifier\n",
    "from sklearn.tree import DecisionTreeClassifier\n",
    "from sklearn.neighbors import KNeighborsClassifier\n",
    "from sklearn.discriminant_analysis import LinearDiscriminantAnalysis\n",
    "from sklearn.naive_bayes import GaussianNB\n",
    "from sklearn.svm import SVC"
   ]
  },
  {
   "cell_type": "code",
   "execution_count": 65,
   "id": "98a5f911",
   "metadata": {},
   "outputs": [],
   "source": [
    "# split X and y into training and testing sets\n",
    "from sklearn.model_selection import train_test_split\n",
    "\n",
    "X_train, X_test, y_train, y_test = train_test_split(X, y,\n",
    "                                                      train_size=0.6, test_size=0.4,\n",
    "                                                      random_state=0, shuffle=True)"
   ]
  },
  {
   "cell_type": "code",
   "execution_count": 66,
   "id": "1c06f108-1d75-451c-96e7-1a60c806bc55",
   "metadata": {},
   "outputs": [],
   "source": [
    "#import category encoders\n",
    "import category_encoders as ce\n",
    "\n",
    "#encode variables with ordinal encoding\n",
    "encoder = ce.OrdinalEncoder(cols=['Application_Type'])\n",
    "\n",
    "X_train = encoder.fit_transform(X_train)\n",
    "X_test = encoder.transform(X_test)"
   ]
  },
  {
   "cell_type": "code",
   "execution_count": 67,
   "id": "ecdc0049",
   "metadata": {},
   "outputs": [
    {
     "name": "stdout",
     "output_type": "stream",
     "text": [
      "Warning: No categorical columns found. Calling 'transform' will only return input data.\n"
     ]
    }
   ],
   "source": [
    "#encode variables with ordinal encoding\n",
    "encoder = ce.OrdinalEncoder()\n",
    "\n",
    "X_svm = encoder.fit_transform(X_train)[:1000]\n",
    "y_svm = encoder.fit_transform(y_train)[:1000]"
   ]
  },
  {
   "cell_type": "code",
   "execution_count": 68,
   "id": "040c2757",
   "metadata": {},
   "outputs": [
    {
     "name": "stdout",
     "output_type": "stream",
     "text": [
      "RF Model Train set score: 1.0000\n",
      "RF Model Test set score: 0.9985\n",
      "----------------------------------------\n",
      "GB Model Train set score: 1.0000\n",
      "GB Model Test set score: 0.9983\n",
      "----------------------------------------\n",
      "KNN Model Train set score: 0.9991\n",
      "KNN Model Test set score: 0.9978\n",
      "----------------------------------------\n",
      "DT Model Train set score: 1.0000\n",
      "DT Model Test set score: 0.9985\n",
      "----------------------------------------\n",
      "SVM Model Train set score: 0.9983\n",
      "SVM Model Test set score: 0.9975\n",
      "----------------------------------------\n"
     ]
    }
   ],
   "source": [
    "# prepare configuration for cross validation test harness\n",
    "seed = 7\n",
    "# prepare models\n",
    "models = []\n",
    "models.append(('RF', RandomForestClassifier()))\n",
    "models.append(('GB', GradientBoostingClassifier()))\n",
    "models.append(('KNN', KNeighborsClassifier()))\n",
    "models.append(('DT', DecisionTreeClassifier(criterion='entropy', random_state=30)))\n",
    "# models.append(('NB', GaussianNB()))\n",
    "models.append(('SVM', SVC(kernel='rbf',C= 10, gamma= 1)))\n",
    "# evaluate each model in turn\n",
    "results = []\n",
    "names = []\n",
    "scoring = 'accuracy'\n",
    "for name, model in models:\n",
    "    model.fit(X_train,y_train)\n",
    "    print(name+' Model Train set score: {0:0.4f}'. format(model.score(X_train, y_train)))\n",
    "    print(name+' Model Test set score: {:.4f}'.format(model.score(X_test, y_test)))\n",
    "    print('-'*40)"
   ]
  },
  {
   "cell_type": "code",
   "execution_count": 69,
   "id": "c4417df9",
   "metadata": {},
   "outputs": [],
   "source": [
    "from sklearn.svm import SVC\n",
    "import numpy as np\n",
    "import matplotlib.pyplot as plt\n",
    "from sklearn import svm\n",
    "\n",
    "def make_meshgrid(x, y, h=.02):\n",
    "    x_min, x_max = x.min() - 1, x.max() + 1\n",
    "    y_min, y_max = y.min() - 1, y.max() + 1\n",
    "    xx, yy = np.meshgrid(np.arange(x_min, x_max, h), np.arange(y_min, y_max, h))\n",
    "    return xx, yy\n",
    "\n",
    "def plot_contours(ax, clf, xx, yy, **params):\n",
    "    Z = clf.predict(np.c_[xx.ravel(), yy.ravel()])\n",
    "    Z = Z.reshape(xx.shape)\n",
    "    out = ax.contourf(xx, yy, Z, **params)\n",
    "    return out\n",
    "\n",
    "model = svm.SVC(kernel='rbf',C= 10, gamma= 1)\n",
    "clf = model.fit(X_svm, y_svm)"
   ]
  },
  {
   "cell_type": "code",
   "execution_count": 70,
   "id": "bc9d66b5",
   "metadata": {},
   "outputs": [
    {
     "name": "stderr",
     "output_type": "stream",
     "text": [
      "No artists with labels found to put in legend.  Note that artists whose label start with an underscore are ignored when legend() is called with no argument.\n"
     ]
    },
    {
     "data": {
      "image/png": "[encoded data removed]",
      "text/plain": [
       "<Figure size 640x480 with 1 Axes>"
      ]
     },
     "metadata": {},
     "output_type": "display_data"
    }
   ],
   "source": [
    "fig, ax = plt.subplots()\n",
    "# title for the plots\n",
    "title = ('Decision surface of linear SVC ')\n",
    "# Set-up grid for plotting.\n",
    "X0, X1 = X_svm['Residual_Energy (%)'].values, X_svm['Application_Type'].values\n",
    "xx, yy = make_meshgrid(X0, X1)\n",
    "\n",
    "plot_contours(ax, clf, xx, yy, cmap=plt.cm.coolwarm, alpha=0.8)\n",
    "ax.scatter(X0, X1, c=y_svm.values, cmap=plt.cm.coolwarm, s=20, edgecolors='k')\n",
    "ax.set_ylabel('Application_Type')\n",
    "ax.set_xlabel('Residual_Energy (%)')\n",
    "ax.set_xticks(())\n",
    "ax.set_yticks(())\n",
    "ax.set_title(title)\n",
    "ax.legend()\n",
    "plt.show()"
   ]
  },
  {
   "cell_type": "code",
   "execution_count": null,
   "id": "48cda313",
   "metadata": {},
   "outputs": [],
   "source": []
  }
 ],
 "metadata": {
  "kernelspec": {
   "display_name": "Python 3 (ipykernel)",
   "language": "python",
   "name": "python3"
  },
  "language_info": {
   "codemirror_mode": {
    "name": "ipython",
    "version": 3
   },
   "file_extension": ".py",
   "mimetype": "text/x-python",
   "name": "python",
   "nbconvert_exporter": "python",
   "pygments_lexer": "ipython3",
   "version": "3.9.13"
  }
 },
 "nbformat": 4,
 "nbformat_minor": 5
}
